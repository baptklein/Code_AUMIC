{
 "cells": [
  {
   "cell_type": "code",
   "execution_count": 1,
   "metadata": {},
   "outputs": [
    {
     "name": "stdout",
     "output_type": "stream",
     "text": [
      "There are: 8 CPUs\n"
     ]
    }
   ],
   "source": [
    "import emcee\n",
    "import corner\n",
    "from multiprocessing import Pool, cpu_count\n",
    "print('There are: '+str(cpu_count())+' CPUs')"
   ]
  },
  {
   "cell_type": "code",
   "execution_count": null,
   "metadata": {},
   "outputs": [],
   "source": [
    "\n",
    "##########################################\n",
    "##### Define Prior and Loglikelihood #####\n",
    "##########################################\n",
    "\n",
    "# theta:\n",
    "# - kp\n",
    "# - vsys\n",
    "# - a\n",
    "\n",
    "N = wave.shape[1]\n",
    "f = flux - np.nanmean(flux, axis=1)[:, np.newaxis]\n",
    "f2 = np.nansum(f**2, axis=1)\n",
    "\n",
    "phase = inset phase here\n",
    "pscale = np.sin(2*np.pi*phase)\n",
    "\n",
    "def prior(theta):\n",
    "    \n",
    "    # stop velocity wandering off\n",
    "    if theta[0]>400 or theta[0]<-400: return False\n",
    "    if theta[1]>400 or theta[1]<-400: return False\n",
    "    \n",
    "    return True\n",
    "\n",
    "def log_prob(theta):\n",
    "\n",
    "    if prior(theta)==False: return - np.inf\n",
    "\n",
    "    mod = np.zeros(flux.shape)\n",
    "    planspec = # planet spec function\n",
    "    for k in range(mod.shape[0]):\n",
    "        mod[k] = theta[2]*planspec(wave[k]*( 1 - (theta[1] + theta[0]*pscale[k])/(3*10**5)))\n",
    "    \n",
    "    g = mod - np.nanmean(mod, axis=1)[:, np.newaxis]\n",
    "    #g /= np.nanstd(mod, axis=1)[:, np.newaxis]\n",
    "    \n",
    "    fg = np.nansum(f*g, axis=1)\n",
    "    g2 = np.nansum(g**2, axis=1)\n",
    "    logl = - N/2 * np.nansum( np.log(1/N * (f2 - 2*fg + g2)) )\n",
    "\n",
    "    return logl\n",
    "    \n"
   ]
  },
  {
   "cell_type": "code",
   "execution_count": null,
   "metadata": {},
   "outputs": [],
   "source": [
    "#####################################\n",
    "##### Initial params and labels #####\n",
    "#####################################\n",
    "\n",
    "med = [150, 0, 1.0]\n",
    "std = [10, 10, 0.05]\n",
    "\n",
    "labels = ['Kp', 'Vsys', 'a']\n"
   ]
  },
  {
   "cell_type": "code",
   "execution_count": null,
   "metadata": {},
   "outputs": [],
   "source": [
    "###############################\n",
    "##### Run MCMC (too slow) #####\n",
    "###############################\n",
    "\n",
    "ndim, nwalkers = 3, 6\n",
    "p0 = np.random.randn(nwalkers, ndim)\n",
    "for i in range(ndim):\n",
    "    p0[:,i] = p0[:,i]*std[i] + med[i]\n",
    "    \n",
    "with Pool() as pool:\n",
    "    sampler = emcee.EnsembleSampler(nwalkers, ndim, log_prob, pool=pool)\n",
    "    sampler.run_mcmc(p0, 200, progress=True)\n",
    "    \n"
   ]
  },
  {
   "cell_type": "code",
   "execution_count": null,
   "metadata": {},
   "outputs": [],
   "source": [
    "#############################\n",
    "##### Check MCMC chains #####\n",
    "#############################\n",
    "\n",
    "fig, axes = plt.subplots(ndim, figsize=(10, 10), sharex=True)\n",
    "samples = sampler.get_chain()\n",
    "cut=0 #remove initial n steps from plot\n",
    "\n",
    "for i in range(ndim):\n",
    "    ax = axes[i]\n",
    "    ax.plot(np.arange(len(samples))[cut:], samples[cut:, :, i], \"k\", alpha=0.3)\n",
    "    ax.set_xlim(0, len(samples))\n",
    "    ax.set_ylabel(labels[i])\n",
    "\n",
    "axes[-1].set_xlabel(\"step number\")\n",
    "plt.savefig('./chains.png')\n",
    "plt.show()\n",
    "plt.close()\n"
   ]
  },
  {
   "cell_type": "code",
   "execution_count": null,
   "metadata": {},
   "outputs": [],
   "source": [
    "###############################\n",
    "##### Plot output of MCMC #####\n",
    "###############################\n",
    "\n",
    "n = 40 #burn in\n",
    "flat_samples = sampler.get_chain(discard=n, flat=True)\n",
    "figure = corner.corner(flat_samples, labels=labels, show_titles=True, title_kwargs={\"fontsize\": 10})\n",
    "plt.savefig('./corner.png')\n",
    "plt.show()\n",
    "plt.close()\n",
    "\n",
    "hd = ''\n",
    "for l in labels: hd += l +','\n",
    "np.savetxt('./chains.csv', flat_samples, delimiter=\",\", header=hd[:-1])"
   ]
  }
 ],
 "metadata": {
  "kernelspec": {
   "display_name": "Python 3",
   "language": "python",
   "name": "python3"
  },
  "language_info": {
   "codemirror_mode": {
    "name": "ipython",
    "version": 3
   },
   "file_extension": ".py",
   "mimetype": "text/x-python",
   "name": "python",
   "nbconvert_exporter": "python",
   "pygments_lexer": "ipython3",
   "version": "3.7.4"
  },
  "toc": {
   "base_numbering": 1,
   "nav_menu": {},
   "number_sections": true,
   "sideBar": true,
   "skip_h1_title": false,
   "title_cell": "Table of Contents",
   "title_sidebar": "Contents",
   "toc_cell": false,
   "toc_position": {},
   "toc_section_display": true,
   "toc_window_display": false
  }
 },
 "nbformat": 4,
 "nbformat_minor": 2
}
